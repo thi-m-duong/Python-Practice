{
 "cells": [
  {
   "cell_type": "code",
   "execution_count": null,
   "metadata": {},
   "outputs": [],
   "source": [
    "# Print the game options\n",
    "print('''Please pick one:\n",
    "            rock\n",
    "            scissors\n",
    "            paper''')"
   ]
  },
  {
   "cell_type": "code",
   "execution_count": 1,
   "metadata": {},
   "outputs": [
    {
     "name": "stdout",
     "output_type": "stream",
     "text": [
      "Player a: rock\n",
      "Player b: paper\n",
      "-2\n",
      "player b wins.\n",
      "Do you want to play another game, yes or no?\n",
      "yes\n",
      "Player a: paper\n",
      "Player b: rock\n",
      "2\n",
      "player a wins.\n",
      "Do you want to play another game, yes or no?\n",
      "no\n",
      "game over.\n",
      "Bye bye!\n"
     ]
    }
   ],
   "source": [
    "# Create key value pairs for the dictionary\n",
    "game_dict = {'rock': 1, 'scissors': 2, 'paper': 3}\n",
    "\n",
    "\n",
    "# Tell the loop to always run and run forever until break\n",
    "while True:    \n",
    "    # Getting inputs from both players as strings\n",
    "    player_a = str(input(\"Player a: \"))\n",
    "    player_b = str(input(\"Player b: \"))\n",
    "    \n",
    "    #Get the values from the dictionary based on the keys which is inputs from player A and B\n",
    "    a = game_dict.get(player_a)\n",
    "    b = game_dict.get(player_b)\n",
    "    dif = a - b\n",
    "    print(dif)\n",
    "    \n",
    "    #Create the game rules\n",
    "    if dif in [-1, 2]:\n",
    "        print('player a wins.')\n",
    "        if str(input('Do you want to play another game, yes or no?\\n')) == 'yes':\n",
    "            continue\n",
    "        else:\n",
    "            print('game over.')\n",
    "            break\n",
    "    elif dif in [-2, 1]:\n",
    "        print('player b wins.')\n",
    "        if str(input('Do you want to play another game, yes or no?\\n')) == 'yes':\n",
    "            continue\n",
    "        else:\n",
    "            print('game over.')\n",
    "            break\n",
    "    else:\n",
    "        print('Draw.Please continue.')\n",
    "        print('')\n",
    "print('Bye bye!')"
   ]
  },
  {
   "cell_type": "code",
   "execution_count": null,
   "metadata": {},
   "outputs": [],
   "source": []
  },
  {
   "cell_type": "code",
   "execution_count": null,
   "metadata": {},
   "outputs": [],
   "source": []
  }
 ],
 "metadata": {
  "kernelspec": {
   "display_name": "Python 3",
   "language": "python",
   "name": "python3"
  },
  "language_info": {
   "codemirror_mode": {
    "name": "ipython",
    "version": 3
   },
   "file_extension": ".py",
   "mimetype": "text/x-python",
   "name": "python",
   "nbconvert_exporter": "python",
   "pygments_lexer": "ipython3",
   "version": "3.6.4"
  }
 },
 "nbformat": 4,
 "nbformat_minor": 2
}
